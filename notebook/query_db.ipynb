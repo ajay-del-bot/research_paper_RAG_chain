{
 "cells": [
  {
   "cell_type": "code",
   "execution_count": 1,
   "id": "ca7367849dcc26ec",
   "metadata": {
    "ExecuteTime": {
     "end_time": "2025-05-03T22:57:00.132903Z",
     "start_time": "2025-05-03T22:56:59.118016Z"
    }
   },
   "outputs": [
    {
     "ename": "ModuleNotFoundError",
     "evalue": "No module named 'langchain_google_genai'",
     "output_type": "error",
     "traceback": [
      "\u001B[1;31m---------------------------------------------------------------------------\u001B[0m",
      "\u001B[1;31mModuleNotFoundError\u001B[0m                       Traceback (most recent call last)",
      "Cell \u001B[1;32mIn[1], line 1\u001B[0m\n\u001B[1;32m----> 1\u001B[0m \u001B[38;5;28;01mfrom\u001B[39;00m \u001B[38;5;21;01mlangchain_google_genai\u001B[39;00m \u001B[38;5;28;01mimport\u001B[39;00m ChatGoogleGenerativeAI\n\u001B[0;32m      2\u001B[0m \u001B[38;5;28;01mfrom\u001B[39;00m \u001B[38;5;21;01mlangchain\u001B[39;00m\u001B[38;5;21;01m.\u001B[39;00m\u001B[38;5;21;01mchains\u001B[39;00m \u001B[38;5;28;01mimport\u001B[39;00m create_retrieval_chain\n\u001B[0;32m      3\u001B[0m \u001B[38;5;28;01mfrom\u001B[39;00m \u001B[38;5;21;01mlangchain\u001B[39;00m\u001B[38;5;21;01m.\u001B[39;00m\u001B[38;5;21;01mchains\u001B[39;00m\u001B[38;5;21;01m.\u001B[39;00m\u001B[38;5;21;01mcombine_documents\u001B[39;00m \u001B[38;5;28;01mimport\u001B[39;00m create_stuff_documents_chain\n",
      "\u001B[1;31mModuleNotFoundError\u001B[0m: No module named 'langchain_google_genai'"
     ]
    }
   ],
   "source": [
    "from langchain_google_genai import ChatGoogleGenerativeAI\n",
    "from langchain.chains import create_retrieval_chain\n",
    "from langchain.chains.combine_documents import create_stuff_documents_chain\n",
    "from langchain_core.prompts import ChatPromptTemplate\n",
    "from langchain_pinecone import PineconeVectorStore\n",
    "import os\n",
    "from dotenv import load_dotenv\n",
    "from pinecone.grpc import PineconeGRPC as Pinecone\n",
    "from langchain.embeddings import HuggingFaceEmbeddings"
   ]
  },
  {
   "cell_type": "code",
   "execution_count": 2,
   "id": "17f9ae5733cd3d7",
   "metadata": {
    "ExecuteTime": {
     "end_time": "2025-05-03T22:57:00.407286Z",
     "start_time": "2025-05-03T22:57:00.137533Z"
    }
   },
   "outputs": [
    {
     "name": "stderr",
     "output_type": "stream",
     "text": [
      "/var/folders/yr/ccrg_j914ln8wydhc308crs00000gp/T/ipykernel_68680/2408064172.py:9: LangChainDeprecationWarning: The class `HuggingFaceEmbeddings` was deprecated in LangChain 0.2.2 and will be removed in 1.0. An updated version of the class exists in the :class:`~langchain-huggingface package and should be used instead. To use it run `pip install -U :class:`~langchain-huggingface` and import as `from :class:`~langchain_huggingface import HuggingFaceEmbeddings``.\n",
      "  embeddings=HuggingFaceEmbeddings(model_name='sentence-transformers/all-MiniLM-L6-v2')\n"
     ]
    }
   ],
   "source": [
    "\"\"\"\n",
    "    Load the environment variables and setup constants\n",
    "\"\"\"\n",
    "load_dotenv()\n",
    "PINECONE_API_KEY= os.environ.get('PINECONE_API_KEY2')\n",
    "GOOGLE_API_KEY= os.environ.get('GOOGLE_API_KEY')\n",
    "pc = Pinecone(api_key=PINECONE_API_KEY)\n",
    "index_name = \"research-paper-llm-db5\"\n",
    "embeddings=HuggingFaceEmbeddings(model_name='sentence-transformers/all-MiniLM-L6-v2')\n",
    "model = ChatGoogleGenerativeAI(model=\"gemini-1.5-pro-latest\",\n",
    "                               temperature=0.3)\n",
    "\n",
    "vectorstore = PineconeVectorStore.from_existing_index(\n",
    "    index_name=index_name,\n",
    "    embedding=embeddings\n",
    ")\n",
    "\n",
    "retriever = vectorstore.as_retriever(search_type=\"similarity\", search_kwargs={\"k\":5})\n",
    "\n",
    "\n",
    "system_prompt = (\n",
    "    \"You are an assistant for question-answering tasks. \"\n",
    "    \"Use the following pieces of retrieved context to answer \"\n",
    "    \"the question. If you don't know the answer, say that you \"\n",
    "    \"don't know. Use three sentences maximum and keep the \"\n",
    "    \"answer concise.\"\n",
    "    \"\\n\\n\"\n",
    "    \"{context}\"\n",
    ")\n",
    "\n",
    "prompt = ChatPromptTemplate.from_messages(\n",
    "    [\n",
    "        (\"system\", system_prompt),\n",
    "        (\"human\", \"{input}\"),\n",
    "    ]\n",
    ")\n",
    "\n",
    "question_answer_chain = create_stuff_documents_chain(model, prompt)\n",
    "rag_chain = create_retrieval_chain(retriever, question_answer_chain)"
   ]
  },
  {
   "cell_type": "code",
   "execution_count": null,
   "id": "57af3313378279d1",
   "metadata": {},
   "outputs": [],
   "source": [
    "def get_answer(question: str):\n",
    "    # Retrieve relevant document chunks\n",
    "    docs = retriever.invoke(question)\n",
    "    \n",
    "    # Print or collect references\n",
    "    references = []\n",
    "    print(\"\\n=== Retrieved Context ===\")\n",
    "    for i, doc in enumerate(docs):\n",
    "        # If your doc object has metadata, include it here\n",
    "        ref_info = {\n",
    "            \"content\": doc.page_content,\n",
    "            \"metadata\": doc.metadata if hasattr(doc, \"metadata\") else {}\n",
    "        }\n",
    "        references.append(ref_info)\n",
    "        print(f\"\\n--- Doc {i+1} ---\\n{doc.page_content}\\n\")\n",
    "        if hasattr(doc, \"metadata\"):\n",
    "            print(f\"Metadata: {doc.metadata}\")\n",
    "\n",
    "    # Generate answer\n",
    "    response = rag_chain.invoke({\"input\": question})\n",
    "    answer = response[\"answer\"]\n",
    "\n",
    "    # Return both answer and references\n",
    "    return {\n",
    "        \"answer\": answer,\n",
    "        \"references\": references\n",
    "    }\n"
   ]
  },
  {
   "cell_type": "code",
   "execution_count": null,
   "id": "efcaa198",
   "metadata": {},
   "outputs": [],
   "source": []
  }
 ],
 "metadata": {
  "kernelspec": {
   "display_name": "Python 3",
   "language": "python",
   "name": "python3"
  },
  "language_info": {
   "codemirror_mode": {
    "name": "ipython",
    "version": 3
   },
   "file_extension": ".py",
   "mimetype": "text/x-python",
   "name": "python",
   "nbconvert_exporter": "python",
   "pygments_lexer": "ipython3",
   "version": "3.12.4"
  }
 },
 "nbformat": 4,
 "nbformat_minor": 5
}
